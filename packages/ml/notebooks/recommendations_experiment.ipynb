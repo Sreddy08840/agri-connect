{
 "cells": [
  {
   "cell_type": "markdown",
   "metadata": {},
   "source": [
    "# Recommendation System Experiments\n",
    "\n",
    "This notebook demonstrates how to experiment with different recommendation approaches for the Agri-Connect platform."
   ]
  },
  {
   "cell_type": "code",
   "execution_count": null,
   "metadata": {},
   "outputs": [],
   "source": [
    "import sys\n",
    "sys.path.insert(0, '..')\n",
    "\n",
    "import pandas as pd\n",
    "import numpy as np\n",
    "import matplotlib.pyplot as plt\n",
    "import seaborn as sns\n",
    "from sklearn.feature_extraction.text import TfidfVectorizer\n",
    "from sklearn.metrics.pairwise import cosine_similarity\n",
    "from implicit.als import AlternatingLeastSquares\n",
    "from scipy.sparse import csr_matrix\n",
    "\n",
    "from app.db import db\n",
    "from app.config import settings\n",
    "\n",
    "sns.set_style('whitegrid')\n",
    "%matplotlib inline"
   ]
  },
  {
   "cell_type": "markdown",
   "metadata": {},
   "source": [
    "## 1. Load Data"
   ]
  },
  {
   "cell_type": "code",
   "execution_count": null,
   "metadata": {},
   "outputs": [],
   "source": [
    "# Load products\n",
    "products_df = db.get_products()\n",
    "print(f\"Total products: {len(products_df)}\")\n",
    "products_df.head()"
   ]
  },
  {
   "cell_type": "code",
   "execution_count": null,
   "metadata": {},
   "outputs": [],
   "source": [
    "# Load user interactions\n",
    "events_df = db.get_events()\n",
    "print(f\"Total events: {len(events_df)}\")\n",
    "events_df.head()"
   ]
  },
  {
   "cell_type": "markdown",
   "metadata": {},
   "source": [
    "## 2. Content-Based Filtering"
   ]
  },
  {
   "cell_type": "code",
   "execution_count": null,
   "metadata": {},
   "outputs": [],
   "source": [
    "# Create text features\n",
    "products_df['text'] = (\n",
    "    products_df['title'].fillna('') + ' ' + \n",
    "    products_df['description'].fillna('') + ' ' + \n",
    "    products_df['category'].fillna('')\n",
    ")\n",
    "\n",
    "# TF-IDF vectorization\n",
    "tfidf = TfidfVectorizer(stop_words='english', max_features=5000)\n",
    "tfidf_matrix = tfidf.fit_transform(products_df['text'])\n",
    "\n",
    "print(f\"TF-IDF matrix shape: {tfidf_matrix.shape}\")"
   ]
  },
  {
   "cell_type": "code",
   "execution_count": null,
   "metadata": {},
   "outputs": [],
   "source": [
    "# Calculate similarity for a sample product\n",
    "sample_idx = 0\n",
    "sample_product = products_df.iloc[sample_idx]\n",
    "\n",
    "cosine_similarities = cosine_similarity(tfidf_matrix[sample_idx], tfidf_matrix).flatten()\n",
    "similar_indices = cosine_similarities.argsort()[-6:-1][::-1]\n",
    "\n",
    "print(f\"\\nSimilar products to: {sample_product['title']}\\n\")\n",
    "for idx in similar_indices:\n",
    "    print(f\"  {products_df.iloc[idx]['title']}: {cosine_similarities[idx]:.3f}\")"
   ]
  },
  {
   "cell_type": "markdown",
   "metadata": {},
   "source": [
    "## 3. Collaborative Filtering"
   ]
  },
  {
   "cell_type": "code",
   "execution_count": null,
   "metadata": {},
   "outputs": [],
   "source": [
    "# Create user-item matrix\n",
    "interactions_df = db.get_user_product_matrix()\n",
    "\n",
    "if not interactions_df.empty:\n",
    "    # Aggregate scores\n",
    "    interactions_df = interactions_df.groupby(['userId', 'productId'])['score'].sum().reset_index()\n",
    "    \n",
    "    # Create mappings\n",
    "    user_ids = interactions_df['userId'].unique()\n",
    "    product_ids = interactions_df['productId'].unique()\n",
    "    \n",
    "    user_map = {uid: idx for idx, uid in enumerate(user_ids)}\n",
    "    product_map = {pid: idx for idx, pid in enumerate(product_ids)}\n",
    "    \n",
    "    # Create sparse matrix\n",
    "    rows = interactions_df['userId'].map(user_map).values\n",
    "    cols = interactions_df['productId'].map(product_map).values\n",
    "    data = interactions_df['score'].values\n",
    "    \n",
    "    user_item_matrix = csr_matrix(\n",
    "        (data, (rows, cols)),\n",
    "        shape=(len(user_ids), len(product_ids))\n",
    "    )\n",
    "    \n",
    "    print(f\"User-item matrix shape: {user_item_matrix.shape}\")\n",
    "    print(f\"Sparsity: {1 - (user_item_matrix.nnz / (user_item_matrix.shape[0] * user_item_matrix.shape[1])):.4f}\")\n",
    "else:\n",
    "    print(\"No interaction data available\")"
   ]
  },
  {
   "cell_type": "code",
   "execution_count": null,
   "metadata": {},
   "outputs": [],
   "source": [
    "# Train ALS model\n",
    "if not interactions_df.empty:\n",
    "    model = AlternatingLeastSquares(\n",
    "        factors=50,\n",
    "        regularization=0.01,\n",
    "        iterations=15\n",
    "    )\n",
    "    \n",
    "    model.fit(user_item_matrix)\n",
    "    print(\"ALS model trained successfully\")\n",
    "else:\n",
    "    print(\"Cannot train ALS model without interaction data\")"
   ]
  },
  {
   "cell_type": "markdown",
   "metadata": {},
   "source": [
    "## 4. Evaluation"
   ]
  },
  {
   "cell_type": "code",
   "execution_count": null,
   "metadata": {},
   "outputs": [],
   "source": [
    "# Distribution of product categories\n",
    "plt.figure(figsize=(12, 6))\n",
    "products_df['category'].value_counts().head(10).plot(kind='bar')\n",
    "plt.title('Top 10 Product Categories')\n",
    "plt.xlabel('Category')\n",
    "plt.ylabel('Count')\n",
    "plt.xticks(rotation=45, ha='right')\n",
    "plt.tight_layout()\n",
    "plt.show()"
   ]
  },
  {
   "cell_type": "code",
   "execution_count": null,
   "metadata": {},
   "outputs": [],
   "source": [
    "# Event type distribution\n",
    "if not events_df.empty:\n",
    "    plt.figure(figsize=(10, 6))\n",
    "    events_df['type'].value_counts().plot(kind='bar')\n",
    "    plt.title('User Event Distribution')\n",
    "    plt.xlabel('Event Type')\n",
    "    plt.ylabel('Count')\n",
    "    plt.xticks(rotation=45, ha='right')\n",
    "    plt.tight_layout()\n",
    "    plt.show()"
   ]
  },
  {
   "cell_type": "code",
   "execution_count": null,
   "metadata": {},
   "outputs": [],
   "source": [
    "# Price distribution\n",
    "plt.figure(figsize=(10, 6))\n",
    "plt.hist(products_df['price'], bins=50, edgecolor='black')\n",
    "plt.title('Product Price Distribution')\n",
    "plt.xlabel('Price (₹)')\n",
    "plt.ylabel('Frequency')\n",
    "plt.tight_layout()\n",
    "plt.show()"
   ]
  },
  {
   "cell_type": "markdown",
   "metadata": {},
   "source": [
    "## 5. Hybrid Recommendations\n",
    "\n",
    "Combine content-based and collaborative filtering for better results."
   ]
  },
  {
   "cell_type": "code",
   "execution_count": null,
   "metadata": {},
   "outputs": [],
   "source": [
    "def hybrid_recommendations(product_id, user_id=None, n=10, alpha=0.5):\n",
    "    \"\"\"\n",
    "    Generate hybrid recommendations.\n",
    "    \n",
    "    alpha: weight for content-based (1-alpha for collaborative)\n",
    "    \"\"\"\n",
    "    # Content-based scores\n",
    "    idx = products_df[products_df['id'] == product_id].index[0]\n",
    "    content_scores = cosine_similarity(tfidf_matrix[idx], tfidf_matrix).flatten()\n",
    "    \n",
    "    # Combine with collaborative if available\n",
    "    if user_id and not interactions_df.empty:\n",
    "        # Get collaborative scores (simplified)\n",
    "        collab_scores = content_scores * 0  # Placeholder\n",
    "        \n",
    "        # Hybrid\n",
    "        final_scores = alpha * content_scores + (1 - alpha) * collab_scores\n",
    "    else:\n",
    "        final_scores = content_scores\n",
    "    \n",
    "    # Get top N\n",
    "    top_indices = final_scores.argsort()[-(n+1):-1][::-1]\n",
    "    \n",
    "    return products_df.iloc[top_indices][['title', 'category', 'price']]\n",
    "\n",
    "# Example\n",
    "if len(products_df) > 0:\n",
    "    sample_id = products_df.iloc[0]['id']\n",
    "    print(f\"Recommendations for: {products_df.iloc[0]['title']}\\n\")\n",
    "    print(hybrid_recommendations(sample_id, n=5))"
   ]
  },
  {
   "cell_type": "markdown",
   "metadata": {},
   "source": [
    "## 6. Save Insights\n",
    "\n",
    "Export useful statistics and insights."
   ]
  },
  {
   "cell_type": "code",
   "execution_count": null,
   "metadata": {},
   "outputs": [],
   "source": [
    "insights = {\n",
    "    'total_products': len(products_df),\n",
    "    'total_events': len(events_df),\n",
    "    'unique_users': events_df['userId'].nunique() if not events_df.empty else 0,\n",
    "    'avg_price': products_df['price'].mean(),\n",
    "    'top_category': products_df['category'].value_counts().index[0] if len(products_df) > 0 else None\n",
    "}\n",
    "\n",
    "print(\"\\nKey Insights:\")\n",
    "for key, value in insights.items():\n",
    "    print(f\"  {key}: {value}\")"
   ]
  }
 ],
 "metadata": {
  "kernelspec": {
   "display_name": "Python 3",
   "language": "python",
   "name": "python3"
  },
  "language_info": {
   "codemirror_mode": {
    "name": "ipython",
    "version": 3
   },
   "file_extension": ".py",
   "mimetype": "text/x-python",
   "name": "python",
   "nbconvert_exporter": "python",
   "pygments_lexer": "ipython3",
   "version": "3.11.0"
  }
 },
 "nbformat": 4,
 "nbformat_minor": 4
}
